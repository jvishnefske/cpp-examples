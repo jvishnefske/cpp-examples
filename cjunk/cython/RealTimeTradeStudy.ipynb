{
 "cells": [
  {
   "cell_type": "code",
   "execution_count": null,
   "metadata": {},
   "outputs": [],
   "source": [
    "# evaluationg cython code generation for safety critacal,and real timedeveloptmen\n",
    "# since pex are importable from python this may provide testability, and \n",
    "# maintainablility\n",
    "# one disadvantage is the \n",
    "# consider uv loop for high throughput, but may be worth evaluating\n",
    "# how libuv performs on realtime jitter requirements.\n",
    "# also consider if setscheduler fifo/rr could be used for the most cirtical \n",
    "# thread without risk of python locking up the system.\n",
    "\n",
    "# another consideration is avoiding dynamic allocation, and \n",
    "# enabling pedantic warnings.\n",
    "\n",
    "# compare this to matlab coder or embeded coder.\n",
    "\n"
   ]
  },
  {
   "cell_type": "code",
   "execution_count": 10,
   "metadata": {},
   "outputs": [
    {
     "name": "stdout",
     "output_type": "stream",
     "text": [
      "The Cython extension is already loaded. To reload it, use:\n",
      "  %reload_ext Cython\n"
     ]
    }
   ],
   "source": [
    "%load_ext Cython"
   ]
  },
  {
   "cell_type": "raw",
   "metadata": {},
   "source": [
    "%%cython\n",
    "\n",
    "enum class color:\n",
    "    Red=1\n",
    "    Blue=2\n",
    "    Green=3\n",
    "\n",
    "\n",
    "cdef etoString(color)->String:\n",
    "    if(color == Red):\n",
    "        return \"red\"\n",
    "    else: \n",
    "        return \"not Red\"\n",
    "   \n",
    "cdef int a = 0\n",
    "for i in range(10):\n",
    "    a += i\n",
    "    \n",
    "print(a)"
   ]
  },
  {
   "cell_type": "raw",
   "metadata": {},
   "source": [
    "%%cython\n",
    "import numpy\n",
    "cdef solve():\n",
    "    \n",
    "    return numpy."
   ]
  }
 ],
 "metadata": {
  "kernelspec": {
   "display_name": "Python 3",
   "language": "python",
   "name": "python3"
  },
  "language_info": {
   "codemirror_mode": {
    "name": "ipython",
    "version": 3
   },
   "file_extension": ".py",
   "mimetype": "text/x-python",
   "name": "python",
   "nbconvert_exporter": "python",
   "pygments_lexer": "ipython3",
   "version": "3.8.5"
  }
 },
 "nbformat": 4,
 "nbformat_minor": 4
}
